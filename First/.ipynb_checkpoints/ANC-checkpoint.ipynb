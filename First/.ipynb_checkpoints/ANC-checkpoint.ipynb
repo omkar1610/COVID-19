{
 "cells": [
  {
   "cell_type": "markdown",
   "metadata": {},
   "source": [
    "## Login, Set Location"
   ]
  },
  {
   "cell_type": "code",
   "execution_count": 167,
   "metadata": {},
   "outputs": [
    {
     "name": "stdout",
     "output_type": "stream",
     "text": [
      "Captchawd3b6\n",
      "Set Loc Village : An, Kal, Khan, Singan\n"
     ]
    }
   ],
   "source": [
    "from selenium import webdriver\n",
    "from selenium.webdriver.common.keys import Keys\n",
    "import time\n",
    "\n",
    "driver = webdriver.Chrome(\"driver\")\n",
    "driver.get(\"https://rch.nhm.gov.in/RCH/Login.aspx\")\n",
    "\n",
    "# Login with capthcha\n",
    "driver.find_element_by_id(\"ddlStateName\").send_keys(\"Odisha \\(21\\)\")\n",
    "driver.find_element_by_id(\"txtUserName\").send_keys(\"nrhm-or.bh.bh\")\n",
    "driver.find_element_by_id(\"txtPassword\").send_keys(\"barapada@2020\")\n",
    "driver.find_element_by_id(\"txtimgcode\").send_keys(input(\"Captcha\"))\n",
    "driver.find_element_by_id(\"btnLogin\").send_keys(Keys.RETURN)\n",
    "driver.find_element_by_id(\"SMSMenu\").send_keys(Keys.RETURN)\n",
    "driver.find_element_by_id(\"SingleMainContent_UserInfoBoxControl2_ddlSubCentre\").send_keys(\"Kalah\")\n",
    "# Need to wait\n",
    "time.sleep(1)\n",
    "\n",
    "# Set location Village\n",
    "driver.find_element_by_id(\"SingleMainContent_UserInfoBoxControl2_ddlVillage\").send_keys(input(\"Set Loc Village : An, Kal, Khan, Sing\"))\n",
    "driver.find_element_by_id(\"SingleMainContent_UserInfoBoxControl2_btnSave\").send_keys(Keys.RETURN)\n",
    "\n",
    "# Mother Entry\n",
    "driver.find_element_by_id(\"SingleMainContent_Repeater2_imgEmp_1\").click()\n"
   ]
  },
  {
   "cell_type": "markdown",
   "metadata": {},
   "source": [
    "## ANC"
   ]
  },
  {
   "cell_type": "code",
   "execution_count": 168,
   "metadata": {},
   "outputs": [],
   "source": [
    "\n",
    "# Get the data to enter\n",
    "health_provider \n",
    "asha_name = ['SingleMainContent_DoubleMainContent_ddlAsha']\n",
    "facility = ['SingleMainContent_DoubleMainContent_ddlFPforANCDone']\n",
    "village = ['SingleMainContent_DoubleMainContent_ddlFacilityPlaceId']\n",
    "date = ['SingleMainContent_DoubleMainContent_txtAncDate']\n",
    "weight = ['SingleMainContent_DoubleMainContent_txtMotherWeight']\n",
    "bp = ['SingleMainContent_DoubleMainContent_txtBpSystolic','SingleMainContent_DoubleMainContent_txtBpDistolic']\n",
    "hb = ['SingleMainContent_DoubleMainContent_txtHbGm']\n",
    "urine = ['SingleMainContent_DoubleMainContent_ddlUrineTest', 'SingleMainContent_DoubleMainContent_ddlUrinSugar', 'SingleMainContent_DoubleMainContent_ddlUrinAlbumin']\n",
    "sugar = ['SingleMainContent_DoubleMainContent_ddlBloodSugarTest', 'SingleMainContent_DoubleMainContent_txtBlood_Sugar_Fasting', 'SingleMainContent_DoubleMainContent_txtBlood_Sugar_Post_Prandial']\n",
    "ifa = ['SingleMainContent_DoubleMainContent_txtIfaTabs']\n",
    "tt = ['SingleMainContent_DoubleMainContent_ddlTT'] #TT1 or TT2\n",
    "tt_date = ['SingleMainContent_DoubleMainContent_txtTt1Date']\n",
    "save_btn = ['SingleMainContent_DoubleMainContent_btnSave']"
   ]
  },
  {
   "cell_type": "code",
   "execution_count": null,
   "metadata": {},
   "outputs": [],
   "source": [
    "# Search with mother ID\n",
    "# Keep on entering ANC Details"
   ]
  },
  {
   "cell_type": "code",
   "execution_count": 169,
   "metadata": {},
   "outputs": [],
   "source": [
    "# Mother ID Search and Open mother page\n",
    "motherid = input(\"mother ID : \")\n",
    "driver.find_element_by_id(\"SingleMainContent_ddlSearch\").send_keys(\"Search By ID\")\n",
    "driver.find_element_by_id(\"SingleMainContent_txtRegNo\").send_keys(motherid)\n",
    "driver.find_element_by_id(\"SingleMainContent_btnRegSearch\").send_keys(Keys.RETURN)\n",
    "driver.find_element_by_id(\"SingleMainContent_lvSearch_lnkSelect_0\").send_keys(Keys.RETURN)\n"
   ]
  },
  {
   "cell_type": "code",
   "execution_count": 165,
   "metadata": {},
   "outputs": [],
   "source": [
    "file = open(\"data.txt\")"
   ]
  },
  {
   "cell_type": "code",
   "execution_count": 166,
   "metadata": {},
   "outputs": [
    {
     "data": {
      "text/plain": [
       "('121001362589', '03-02-2019', '48', '110', '70', '10.5', '70', '100')"
      ]
     },
     "execution_count": 166,
     "metadata": {},
     "output_type": "execute_result"
    }
   ],
   "source": [
    "# motherid , dt, wt, bp1, bp2, Hb, sugar1, sugar2 = input(\"Data-motherid , dt, wt, bp1, bp2, Hb, sugar1, sugar2 : \").split(\" \")\n",
    "s = file.readline()\n",
    "dt, wt, bp1, bp2, Hb, sugar1, sugar2 = s[:-1].split(\" \")\n",
    "motherid , dt, wt, bp1, bp2, Hb, sugar1, sugar2"
   ]
  },
  {
   "cell_type": "code",
   "execution_count": 106,
   "metadata": {},
   "outputs": [
    {
     "name": "stdout",
     "output_type": "stream",
     "text": [
      "an\n"
     ]
    }
   ],
   "source": [
    "# Update village and date\n",
    "driver.find_element_by_id(facility[0]).send_keys('Village')\n",
    "driver.find_element_by_id(date[0]).clear()\n",
    "driver.find_element_by_id(date[0]).send_keys(dt)\n",
    "\n",
    "time.sleep(1)\n",
    "\n",
    "# Update weight, bp, Hb, IFA\n",
    "driver.find_element_by_id(weight[0]).clear()\n",
    "driver.find_element_by_id(bp[0]).clear()\n",
    "driver.find_element_by_id(bp[1]).clear()\n",
    "driver.find_element_by_id(hb[0]).clear()\n",
    "\n",
    "driver.find_element_by_id(weight[0]).send_keys(wt)\n",
    "driver.find_element_by_id(bp[0]).send_keys(bp1)\n",
    "driver.find_element_by_id(bp[1]).send_keys(bp2)\n",
    "driver.find_element_by_id(hb[0]).send_keys(Hb)\n",
    "\n",
    "driver.find_element_by_id(urine[0]).send_keys(\"D\")\n",
    "driver.find_element_by_id(sugar[0]).send_keys(\"D\")\n",
    "driver.find_element_by_id(ifa[0]).send_keys(\"90\")\n",
    "\n",
    "time.sleep(1)\n",
    "\n",
    "# Update village name, Sugar\n",
    "driver.find_element_by_id(village[0]).send_keys(input(\"Village First 2 letters\"))  #Enter first two letters\n",
    "driver.find_element_by_id(urine[1]).send_keys(\"Present\")\n",
    "driver.find_element_by_id(urine[2]).send_keys(\"Present\")\n",
    "\n",
    "driver.find_element_by_id(sugar[1]).clear()\n",
    "driver.find_element_by_id(sugar[2]).clear()\n",
    "driver.find_element_by_id(sugar[1]).send_keys(sugar1)\n",
    "driver.find_element_by_id(sugar[2]).send_keys(sugar2)\n",
    "\n",
    "# TT\n",
    "# driver.find_element_by_id(tt[0]).send_keys('TT' + input(\"1 or 2\"))\n",
    "# driver.find_element_by_id(tt_date[0]).clear()\n",
    "# driver.find_element_by_id(tt_date[0]).send_keys(sugar1)"
   ]
  },
  {
   "cell_type": "code",
   "execution_count": 107,
   "metadata": {},
   "outputs": [],
   "source": [
    "# Ask before saving\n",
    "driver.find_element_by_id(save_btn).send_keys(Keys.RETURN)"
   ]
  },
  {
   "cell_type": "code",
   "execution_count": null,
   "metadata": {},
   "outputs": [],
   "source": []
  },
  {
   "cell_type": "markdown",
   "metadata": {
    "heading_collapsed": true
   },
   "source": [
    "## Delivery Outcome"
   ]
  },
  {
   "cell_type": "code",
   "execution_count": null,
   "metadata": {
    "hidden": true
   },
   "outputs": [],
   "source": [
    "# Delivery Outcome\n",
    "dob = 'SingleMainContent_DoubleMainContent_hfdeliverydate'\n",
    "place = 'SingleMainContent_DoubleMainContent_ddlDeliveryPlace'\n",
    "location = 'SingleMainContent_DoubleMainContent_txtDeliveryLocation'\n",
    "whoConducted = 'SingleMainContent_DoubleMainContent_ddlDeliveryConducted'\n",
    "type_of_delivery = 'SingleMainContent_DoubleMainContent_ddlDeliveryType'\n",
    "complication = 'SingleMainContent_DoubleMainContent_chkNone'\n",
    "outcome = 'SingleMainContent_DoubleMainContent_ddlDeliveryOutcomes'\n",
    "livebirth = 'SingleMainContent_DoubleMainContent_ddlLiveBirth'\n",
    "stillbirth = 'SingleMainContent_DoubleMainContent_ddlStillBirth'\n",
    "discharge = 'SingleMainContent_DoubleMainContent_txtDischargeDate'\n",
    "save = 'SingleMainContent_DoubleMainContent_btnSave'\n",
    "\n",
    "date, plc, loc, who, type, compl, out, lv, stl, disch = input().split(\" \")\n",
    "\n",
    "driver.find_element_by_id(dob).clear()\n",
    "driver.find_element_by_id(dob).send_keys(date)\n",
    "driver.find_element_by_id(place).send_keys(plc)\n",
    "driver.find_element_by_id(location).send_keys(loc)\n",
    "driver.find_element_by_id(whoConducted).send_keys(who)\n",
    "driver.find_element_by_id(type_of_delivery).send_keys(type)\n",
    "driver.find_element_by_id(complication).send_keys(compl)\n",
    "driver.find_element_by_id(outcome).send_keys(out)\n",
    "driver.find_element_by_id(livebirth).send_keys(lv)\n",
    "driver.find_element_by_id(stillbirth).send_keys(stl)\n",
    "driver.find_element_by_id(discharge).send_keys(disch)\n"
   ]
  },
  {
   "cell_type": "code",
   "execution_count": null,
   "metadata": {
    "hidden": true
   },
   "outputs": [],
   "source": [
    "# Ask before saving\n",
    "driver.find_element_by_id(save).send_keys(Keys.RETURN)"
   ]
  }
 ],
 "metadata": {
  "kernelspec": {
   "display_name": "Python 3",
   "language": "python",
   "name": "python3"
  },
  "language_info": {
   "codemirror_mode": {
    "name": "ipython",
    "version": 3
   },
   "file_extension": ".py",
   "mimetype": "text/x-python",
   "name": "python",
   "nbconvert_exporter": "python",
   "pygments_lexer": "ipython3",
   "version": "3.7.4"
  },
  "toc": {
   "base_numbering": 1,
   "nav_menu": {},
   "number_sections": true,
   "sideBar": true,
   "skip_h1_title": false,
   "title_cell": "Table of Contents",
   "title_sidebar": "Contents",
   "toc_cell": false,
   "toc_position": {},
   "toc_section_display": true,
   "toc_window_display": false
  }
 },
 "nbformat": 4,
 "nbformat_minor": 2
}
