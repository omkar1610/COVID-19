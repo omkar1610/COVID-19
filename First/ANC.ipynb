{
 "cells": [
  {
   "cell_type": "markdown",
   "metadata": {},
   "source": [
    "# Login, Set Location"
   ]
  },
  {
   "cell_type": "code",
   "execution_count": 64,
   "metadata": {},
   "outputs": [
    {
     "name": "stdout",
     "output_type": "stream",
     "text": [
      "Captcha : qc524\n"
     ]
    }
   ],
   "source": [
    "from selenium import webdriver\n",
    "from selenium.webdriver.common.keys import Keys\n",
    "import time\n",
    "\n",
    "driver = webdriver.Chrome(\"driver\")\n",
    "driver.get(\"https://rch.nhm.gov.in/RCH/Login.aspx\")\n",
    "\n",
    "# Login with capthcha\n",
    "driver.find_element_by_id(\"ddlStateName\").send_keys(\"Odisha \\(21\\)\")\n",
    "driver.find_element_by_id(\"txtUserName\").send_keys(\"nrhm-or.bh.bh\")\n",
    "driver.find_element_by_id(\"txtPassword\").send_keys(\"barapada@2020\")\n",
    "driver.find_element_by_id(\"txtimgcode\").send_keys(input(\"Captcha : \"))\n",
    "driver.find_element_by_id(\"btnLogin\").send_keys(Keys.RETURN)"
   ]
  },
  {
   "cell_type": "markdown",
   "metadata": {
    "heading_collapsed": true
   },
   "source": [
    "# ANC"
   ]
  },
  {
   "cell_type": "code",
   "execution_count": null,
   "metadata": {
    "hidden": true
   },
   "outputs": [],
   "source": [
    "\n",
    "# Get the data to enter\n",
    "health_provider = 0\n",
    "asha_name = ['SingleMainContent_DoubleMainContent_ddlAsha']\n",
    "facility = ['SingleMainContent_DoubleMainContent_ddlFPforANCDone']\n",
    "village = ['SingleMainContent_DoubleMainContent_ddlFacilityPlaceId']\n",
    "date = ['SingleMainContent_DoubleMainContent_txtAncDate']\n",
    "weight = ['SingleMainContent_DoubleMainContent_txtMotherWeight']\n",
    "bp = ['SingleMainContent_DoubleMainContent_txtBpSystolic','SingleMainContent_DoubleMainContent_txtBpDistolic']\n",
    "hb = ['SingleMainContent_DoubleMainContent_txtHbGm']\n",
    "urine = ['SingleMainContent_DoubleMainContent_ddlUrineTest', 'SingleMainContent_DoubleMainContent_ddlUrinSugar', 'SingleMainContent_DoubleMainContent_ddlUrinAlbumin']\n",
    "sugar = ['SingleMainContent_DoubleMainContent_ddlBloodSugarTest', 'SingleMainContent_DoubleMainContent_txtBlood_Sugar_Fasting', 'SingleMainContent_DoubleMainContent_txtBlood_Sugar_Post_Prandial']\n",
    "ifa = ['SingleMainContent_DoubleMainContent_txtIfaTabs']\n",
    "tt = ['SingleMainContent_DoubleMainContent_ddlTT'] #TT1 or TT2\n",
    "tt_date = ['SingleMainContent_DoubleMainContent_txtTt1Date']\n",
    "save_btn = ['SingleMainContent_DoubleMainContent_btnSave']"
   ]
  },
  {
   "cell_type": "code",
   "execution_count": null,
   "metadata": {
    "hidden": true
   },
   "outputs": [],
   "source": [
    "def new_entry(driver):\n",
    "    driver.find_element_by_id(\"SMSMenu\").send_keys(Keys.RETURN)\n",
    "    driver.find_element_by_id(\"SingleMainContent_UserInfoBoxControl2_ddlSubCentre\").send_keys(\"Kalah\")\n",
    "    # Need to wait\n",
    "    time.sleep(1)\n",
    "    # Set location Village\n",
    "    driver.find_element_by_id(\"SingleMainContent_UserInfoBoxControl2_ddlVillage\").send_keys(input(\"Set Loc Village : An, Kal, Khan, Sing\"))\n",
    "    driver.find_element_by_id(\"SingleMainContent_UserInfoBoxControl2_btnSave\").send_keys(Keys.RETURN)\n",
    "\n",
    "    # Mother Entry\n",
    "    driver.find_element_by_id(\"SingleMainContent_Repeater2_imgEmp_1\").click()\n",
    "\n",
    "    # Mother ID Search and Open mother page\n",
    "    motherid = input(\"mother ID : \")\n",
    "    driver.find_element_by_id(\"SingleMainContent_ddlSearch\").send_keys(\"Search By ID\")\n",
    "    driver.find_element_by_id(\"SingleMainContent_txtRegNo\").send_keys(motherid)\n",
    "    driver.find_element_by_id(\"SingleMainContent_btnRegSearch\").send_keys(Keys.RETURN)\n",
    "    driver.find_element_by_id(\"SingleMainContent_lvSearch_lnkSelect_0\").send_keys(Keys.RETURN)\n",
    "\n",
    "    return motherid"
   ]
  },
  {
   "cell_type": "code",
   "execution_count": null,
   "metadata": {
    "hidden": true,
    "scrolled": true
   },
   "outputs": [],
   "source": [
    "new_entry(driver)"
   ]
  },
  {
   "cell_type": "code",
   "execution_count": null,
   "metadata": {
    "hidden": true
   },
   "outputs": [],
   "source": [
    "driver.find_element_by_id(\"SMSMenu\").send_keys(Keys.RETURN)\n",
    "driver.find_element_by_id(\"SingleMainContent_UserInfoBoxControl2_ddlSubCentre\").send_keys(\"Kalah\")\n",
    "driver.find_element_by_id(\"SingleMainContent_UserInfoBoxControl2_btnSave\").send_keys(Keys.RETURN)\n",
    "driver.find_element_by_id(\"SMSMenu\").send_keys(Keys.RETURN)"
   ]
  },
  {
   "cell_type": "code",
   "execution_count": null,
   "metadata": {
    "hidden": true
   },
   "outputs": [],
   "source": [
    "driver.find_element_by_id(\"txtRCH_MCTS_ID\").clear()\n",
    "driver.find_element_by_id(\"txtRCH_MCTS_ID\").send_keys(input(\"ID : \"))\n",
    "driver.find_element_by_id(\"btnSearch\").click()"
   ]
  },
  {
   "cell_type": "code",
   "execution_count": null,
   "metadata": {
    "hidden": true
   },
   "outputs": [],
   "source": [
    "def getID(driver, ID):\n",
    "    return driver.find_element_by_id(ID)"
   ]
  },
  {
   "cell_type": "code",
   "execution_count": null,
   "metadata": {
    "hidden": true
   },
   "outputs": [],
   "source": [
    "# Set Asha\n",
    "asha = \"SingleMainContent_DoubleMainContent_ddlAsha\"\n",
    "immun = \"SingleMainContent_DoubleMainContent_ddlImmunization\"\n",
    "\n",
    "getID(driver, asha).send_keys(input(\"A, B, P, Na, Kunt, Kus - \"))\n",
    "\n"
   ]
  },
  {
   "cell_type": "code",
   "execution_count": null,
   "metadata": {
    "hidden": true
   },
   "outputs": [],
   "source": [
    "# OPV-1\n",
    "getID(driver, immun).click()\n",
    "getID(driver, immun).send_keys(\"O\")\n",
    "getID(driver, immun).send_keys(\"O\")\n",
    "getID(driver, immun).click()"
   ]
  },
  {
   "cell_type": "code",
   "execution_count": null,
   "metadata": {
    "hidden": true
   },
   "outputs": [],
   "source": [
    "penta = \"SingleMainContent_DoubleMainContent_ChkBoxImu4\"\n",
    "rota = \"SingleMainContent_DoubleMainContent_ChkBoxImu5\"\n",
    "ipv = \"SingleMainContent_DoubleMainContent_ChkBoxImu6\"\n",
    "date = \"SingleMainContent_DoubleMainContent_txtImmu_Date\"\n",
    "submit = \"SingleMainContent_DoubleMainContent_btnSave\""
   ]
  },
  {
   "cell_type": "code",
   "execution_count": null,
   "metadata": {
    "hidden": true
   },
   "outputs": [],
   "source": [
    "getID(driver, penta).click()\n",
    "getID(driver, rota).click()\n",
    "getID(driver, ipv).click()\n",
    "getID(driver, date).clear()\n",
    "getID(driver, date).send_keys(input(\"date OPV-1 : \"))\n",
    "getID(driver, submit).click()"
   ]
  },
  {
   "cell_type": "code",
   "execution_count": null,
   "metadata": {
    "hidden": true
   },
   "outputs": [],
   "source": [
    "# 18-12-2019 15-01-2020 15-04-2020"
   ]
  },
  {
   "cell_type": "code",
   "execution_count": null,
   "metadata": {
    "hidden": true
   },
   "outputs": [],
   "source": [
    "file = open(\"data.txt\")"
   ]
  },
  {
   "cell_type": "code",
   "execution_count": null,
   "metadata": {
    "hidden": true
   },
   "outputs": [],
   "source": [
    "# motherid , dt, wt, bp1, bp2, Hb, sugar1, sugar2 = input(\"Data-motherid , dt, wt, bp1, bp2, Hb, sugar1, sugar2 : \").split(\" \")\n",
    "s = file.readline()\n",
    "dt, wt, bp1, bp2, Hb, sugar1, sugar2 = s[:-1].split(\" \")\n",
    "print(motherid , dt, wt, bp1, bp2, Hb, sugar1, sugar2)\n",
    "\n",
    "# Update village and date\n",
    "driver.find_element_by_id(facility[0]).send_keys('Village')\n",
    "driver.find_element_by_id(date[0]).clear()\n",
    "driver.find_element_by_id(date[0]).send_keys(dt)\n",
    "\n",
    "time.sleep(1)\n",
    "\n",
    "# Update weight, bp, Hb, IFA\n",
    "driver.find_element_by_id(weight[0]).clear()\n",
    "driver.find_element_by_id(bp[0]).clear()\n",
    "driver.find_element_by_id(bp[1]).clear()\n",
    "driver.find_element_by_id(hb[0]).clear()\n",
    "\n",
    "driver.find_element_by_id(weight[0]).send_keys(wt)\n",
    "driver.find_element_by_id(bp[0]).send_keys(bp1)\n",
    "driver.find_element_by_id(bp[1]).send_keys(bp2)\n",
    "driver.find_element_by_id(hb[0]).send_keys(Hb)\n",
    "\n",
    "driver.find_element_by_id(urine[0]).send_keys(\"D\")\n",
    "driver.find_element_by_id(sugar[0]).send_keys(\"D\")\n",
    "driver.find_element_by_id(ifa[0]).send_keys(\"60\")\n",
    "\n",
    "time.sleep(1)\n",
    "\n",
    "# Update village name, Sugar\n",
    "driver.find_element_by_id(village[0]).send_keys(input(\"Village First 2 letters\"))  #Enter first two letters\n",
    "driver.find_element_by_id(urine[1]).send_keys(\"Present\")\n",
    "driver.find_element_by_id(urine[2]).send_keys(\"Present\")\n",
    "\n",
    "driver.find_element_by_id(sugar[1]).clear()\n",
    "driver.find_element_by_id(sugar[2]).clear()\n",
    "driver.find_element_by_id(sugar[1]).send_keys(sugar1)\n",
    "driver.find_element_by_id(sugar[2]).send_keys(sugar2)\n",
    "\n",
    "# TT\n",
    "# driver.find_element_by_id(tt[0]).send_keys('TT' + input(\"1 or 2\"))\n",
    "# driver.find_element_by_id(tt_date[0]).clear()\n",
    "# driver.find_element_by_id(tt_date[0]).send_keys(sugar1)"
   ]
  },
  {
   "cell_type": "code",
   "execution_count": null,
   "metadata": {
    "hidden": true
   },
   "outputs": [],
   "source": []
  },
  {
   "cell_type": "code",
   "execution_count": null,
   "metadata": {
    "hidden": true
   },
   "outputs": [],
   "source": [
    "# Ask before saving\n",
    "driver.find_element_by_id(save_btn).send_keys(Keys.RETURN)"
   ]
  },
  {
   "cell_type": "code",
   "execution_count": null,
   "metadata": {
    "hidden": true
   },
   "outputs": [],
   "source": []
  },
  {
   "cell_type": "markdown",
   "metadata": {
    "heading_collapsed": true,
    "hidden": true
   },
   "source": [
    "## Delivery Outcome"
   ]
  },
  {
   "cell_type": "code",
   "execution_count": null,
   "metadata": {
    "hidden": true
   },
   "outputs": [],
   "source": [
    "# Delivery Outcome\n",
    "dob = 'SingleMainContent_DoubleMainContent_hfdeliverydate'\n",
    "place = 'SingleMainContent_DoubleMainContent_ddlDeliveryPlace'\n",
    "location = 'SingleMainContent_DoubleMainContent_txtDeliveryLocation'\n",
    "whoConducted = 'SingleMainContent_DoubleMainContent_ddlDeliveryConducted'\n",
    "type_of_delivery = 'SingleMainContent_DoubleMainContent_ddlDeliveryType'\n",
    "complication = 'SingleMainContent_DoubleMainContent_chkNone'\n",
    "outcome = 'SingleMainContent_DoubleMainContent_ddlDeliveryOutcomes'\n",
    "livebirth = 'SingleMainContent_DoubleMainContent_ddlLiveBirth'\n",
    "stillbirth = 'SingleMainContent_DoubleMainContent_ddlStillBirth'\n",
    "discharge = 'SingleMainContent_DoubleMainContent_txtDischargeDate'\n",
    "save = 'SingleMainContent_DoubleMainContent_btnSave'\n",
    "\n",
    "date, plc, loc, who, typ, out, lv, stl, disch = input().split(\" \")\n",
    "\n",
    "driver.find_element_by_id(dob).clear()\n",
    "driver.find_element_by_id(dob).send_keys(date)\n",
    "driver.find_element_by_id(place).send_keys(plc)\n",
    "driver.find_element_by_id(location).send_keys(loc)\n",
    "driver.find_element_by_id(whoConducted).send_keys(who)\n",
    "driver.find_element_by_id(type_of_delivery).send_keys(typ)\n",
    "# driver.find_element_by_id(complication).send_keys(compl)\n",
    "driver.find_element_by_id(outcome).send_keys(out)\n",
    "time.sleep(1)\n",
    "driver.find_element_by_id(livebirth).send_keys(lv)\n",
    "driver.find_element_by_id(stillbirth).send_keys(stl)\n",
    "driver.find_element_by_id(discharge).send_keys(disch)\n"
   ]
  },
  {
   "cell_type": "code",
   "execution_count": null,
   "metadata": {
    "hidden": true
   },
   "outputs": [],
   "source": [
    "# Ask before saving\n",
    "driver.find_element_by_id(save).send_keys(Keys.RETURN)"
   ]
  },
  {
   "cell_type": "markdown",
   "metadata": {},
   "source": [
    "# Child Immunization"
   ]
  },
  {
   "cell_type": "code",
   "execution_count": 65,
   "metadata": {},
   "outputs": [],
   "source": [
    "def getID(driver, ID):\n",
    "    return driver.find_element_by_id(ID)"
   ]
  },
  {
   "cell_type": "code",
   "execution_count": 66,
   "metadata": {},
   "outputs": [
    {
     "ename": "NoSuchElementException",
     "evalue": "Message: no such element: Unable to locate element: {\"method\":\"css selector\",\"selector\":\"[id=\"SMSMenu\"]\"}\n  (Session info: chrome=83.0.4103.61)\n",
     "output_type": "error",
     "traceback": [
      "\u001b[1;31m---------------------------------------------------------------------------\u001b[0m",
      "\u001b[1;31mNoSuchElementException\u001b[0m                    Traceback (most recent call last)",
      "\u001b[1;32m<ipython-input-66-a31a1558562a>\u001b[0m in \u001b[0;36m<module>\u001b[1;34m\u001b[0m\n\u001b[0;32m      1\u001b[0m \u001b[1;31m# Select kalahandia\u001b[0m\u001b[1;33m\u001b[0m\u001b[1;33m\u001b[0m\u001b[1;33m\u001b[0m\u001b[0m\n\u001b[1;32m----> 2\u001b[1;33m \u001b[0mgetID\u001b[0m\u001b[1;33m(\u001b[0m\u001b[0mdriver\u001b[0m\u001b[1;33m,\u001b[0m \u001b[1;34m\"SMSMenu\"\u001b[0m\u001b[1;33m)\u001b[0m\u001b[1;33m.\u001b[0m\u001b[0msend_keys\u001b[0m\u001b[1;33m(\u001b[0m\u001b[0mKeys\u001b[0m\u001b[1;33m.\u001b[0m\u001b[0mRETURN\u001b[0m\u001b[1;33m)\u001b[0m\u001b[1;33m\u001b[0m\u001b[1;33m\u001b[0m\u001b[0m\n\u001b[0m\u001b[0;32m      3\u001b[0m \u001b[0mgetID\u001b[0m\u001b[1;33m(\u001b[0m\u001b[0mdriver\u001b[0m\u001b[1;33m,\u001b[0m \u001b[1;34m\"SingleMainContent_UserInfoBoxControl2_ddlSubCentre\"\u001b[0m\u001b[1;33m)\u001b[0m\u001b[1;33m.\u001b[0m\u001b[0msend_keys\u001b[0m\u001b[1;33m(\u001b[0m\u001b[1;34m\"Kalah\"\u001b[0m\u001b[1;33m)\u001b[0m\u001b[1;33m\u001b[0m\u001b[1;33m\u001b[0m\u001b[0m\n\u001b[0;32m      4\u001b[0m \u001b[0mgetID\u001b[0m\u001b[1;33m(\u001b[0m\u001b[0mdriver\u001b[0m\u001b[1;33m,\u001b[0m \u001b[1;34m\"SingleMainContent_UserInfoBoxControl2_btnSave\"\u001b[0m\u001b[1;33m)\u001b[0m\u001b[1;33m.\u001b[0m\u001b[0msend_keys\u001b[0m\u001b[1;33m(\u001b[0m\u001b[0mKeys\u001b[0m\u001b[1;33m.\u001b[0m\u001b[0mRETURN\u001b[0m\u001b[1;33m)\u001b[0m\u001b[1;33m\u001b[0m\u001b[1;33m\u001b[0m\u001b[0m\n\u001b[0;32m      5\u001b[0m \u001b[0mgetID\u001b[0m\u001b[1;33m(\u001b[0m\u001b[0mdriver\u001b[0m\u001b[1;33m,\u001b[0m \u001b[1;34m\"SMSMenu\"\u001b[0m\u001b[1;33m)\u001b[0m\u001b[1;33m.\u001b[0m\u001b[0msend_keys\u001b[0m\u001b[1;33m(\u001b[0m\u001b[0mKeys\u001b[0m\u001b[1;33m.\u001b[0m\u001b[0mRETURN\u001b[0m\u001b[1;33m)\u001b[0m\u001b[1;33m\u001b[0m\u001b[1;33m\u001b[0m\u001b[0m\n",
      "\u001b[1;32m<ipython-input-65-c13b7bdecff2>\u001b[0m in \u001b[0;36mgetID\u001b[1;34m(driver, ID)\u001b[0m\n\u001b[0;32m      1\u001b[0m \u001b[1;32mdef\u001b[0m \u001b[0mgetID\u001b[0m\u001b[1;33m(\u001b[0m\u001b[0mdriver\u001b[0m\u001b[1;33m,\u001b[0m \u001b[0mID\u001b[0m\u001b[1;33m)\u001b[0m\u001b[1;33m:\u001b[0m\u001b[1;33m\u001b[0m\u001b[1;33m\u001b[0m\u001b[0m\n\u001b[1;32m----> 2\u001b[1;33m     \u001b[1;32mreturn\u001b[0m \u001b[0mdriver\u001b[0m\u001b[1;33m.\u001b[0m\u001b[0mfind_element_by_id\u001b[0m\u001b[1;33m(\u001b[0m\u001b[0mID\u001b[0m\u001b[1;33m)\u001b[0m\u001b[1;33m\u001b[0m\u001b[1;33m\u001b[0m\u001b[0m\n\u001b[0m",
      "\u001b[1;32m~\\Anaconda3\\lib\\site-packages\\selenium\\webdriver\\remote\\webdriver.py\u001b[0m in \u001b[0;36mfind_element_by_id\u001b[1;34m(self, id_)\u001b[0m\n\u001b[0;32m    358\u001b[0m             \u001b[0melement\u001b[0m \u001b[1;33m=\u001b[0m \u001b[0mdriver\u001b[0m\u001b[1;33m.\u001b[0m\u001b[0mfind_element_by_id\u001b[0m\u001b[1;33m(\u001b[0m\u001b[1;34m'foo'\u001b[0m\u001b[1;33m)\u001b[0m\u001b[1;33m\u001b[0m\u001b[1;33m\u001b[0m\u001b[0m\n\u001b[0;32m    359\u001b[0m         \"\"\"\n\u001b[1;32m--> 360\u001b[1;33m         \u001b[1;32mreturn\u001b[0m \u001b[0mself\u001b[0m\u001b[1;33m.\u001b[0m\u001b[0mfind_element\u001b[0m\u001b[1;33m(\u001b[0m\u001b[0mby\u001b[0m\u001b[1;33m=\u001b[0m\u001b[0mBy\u001b[0m\u001b[1;33m.\u001b[0m\u001b[0mID\u001b[0m\u001b[1;33m,\u001b[0m \u001b[0mvalue\u001b[0m\u001b[1;33m=\u001b[0m\u001b[0mid_\u001b[0m\u001b[1;33m)\u001b[0m\u001b[1;33m\u001b[0m\u001b[1;33m\u001b[0m\u001b[0m\n\u001b[0m\u001b[0;32m    361\u001b[0m \u001b[1;33m\u001b[0m\u001b[0m\n\u001b[0;32m    362\u001b[0m     \u001b[1;32mdef\u001b[0m \u001b[0mfind_elements_by_id\u001b[0m\u001b[1;33m(\u001b[0m\u001b[0mself\u001b[0m\u001b[1;33m,\u001b[0m \u001b[0mid_\u001b[0m\u001b[1;33m)\u001b[0m\u001b[1;33m:\u001b[0m\u001b[1;33m\u001b[0m\u001b[1;33m\u001b[0m\u001b[0m\n",
      "\u001b[1;32m~\\Anaconda3\\lib\\site-packages\\selenium\\webdriver\\remote\\webdriver.py\u001b[0m in \u001b[0;36mfind_element\u001b[1;34m(self, by, value)\u001b[0m\n\u001b[0;32m    976\u001b[0m         return self.execute(Command.FIND_ELEMENT, {\n\u001b[0;32m    977\u001b[0m             \u001b[1;34m'using'\u001b[0m\u001b[1;33m:\u001b[0m \u001b[0mby\u001b[0m\u001b[1;33m,\u001b[0m\u001b[1;33m\u001b[0m\u001b[1;33m\u001b[0m\u001b[0m\n\u001b[1;32m--> 978\u001b[1;33m             'value': value})['value']\n\u001b[0m\u001b[0;32m    979\u001b[0m \u001b[1;33m\u001b[0m\u001b[0m\n\u001b[0;32m    980\u001b[0m     \u001b[1;32mdef\u001b[0m \u001b[0mfind_elements\u001b[0m\u001b[1;33m(\u001b[0m\u001b[0mself\u001b[0m\u001b[1;33m,\u001b[0m \u001b[0mby\u001b[0m\u001b[1;33m=\u001b[0m\u001b[0mBy\u001b[0m\u001b[1;33m.\u001b[0m\u001b[0mID\u001b[0m\u001b[1;33m,\u001b[0m \u001b[0mvalue\u001b[0m\u001b[1;33m=\u001b[0m\u001b[1;32mNone\u001b[0m\u001b[1;33m)\u001b[0m\u001b[1;33m:\u001b[0m\u001b[1;33m\u001b[0m\u001b[1;33m\u001b[0m\u001b[0m\n",
      "\u001b[1;32m~\\Anaconda3\\lib\\site-packages\\selenium\\webdriver\\remote\\webdriver.py\u001b[0m in \u001b[0;36mexecute\u001b[1;34m(self, driver_command, params)\u001b[0m\n\u001b[0;32m    319\u001b[0m         \u001b[0mresponse\u001b[0m \u001b[1;33m=\u001b[0m \u001b[0mself\u001b[0m\u001b[1;33m.\u001b[0m\u001b[0mcommand_executor\u001b[0m\u001b[1;33m.\u001b[0m\u001b[0mexecute\u001b[0m\u001b[1;33m(\u001b[0m\u001b[0mdriver_command\u001b[0m\u001b[1;33m,\u001b[0m \u001b[0mparams\u001b[0m\u001b[1;33m)\u001b[0m\u001b[1;33m\u001b[0m\u001b[1;33m\u001b[0m\u001b[0m\n\u001b[0;32m    320\u001b[0m         \u001b[1;32mif\u001b[0m \u001b[0mresponse\u001b[0m\u001b[1;33m:\u001b[0m\u001b[1;33m\u001b[0m\u001b[1;33m\u001b[0m\u001b[0m\n\u001b[1;32m--> 321\u001b[1;33m             \u001b[0mself\u001b[0m\u001b[1;33m.\u001b[0m\u001b[0merror_handler\u001b[0m\u001b[1;33m.\u001b[0m\u001b[0mcheck_response\u001b[0m\u001b[1;33m(\u001b[0m\u001b[0mresponse\u001b[0m\u001b[1;33m)\u001b[0m\u001b[1;33m\u001b[0m\u001b[1;33m\u001b[0m\u001b[0m\n\u001b[0m\u001b[0;32m    322\u001b[0m             response['value'] = self._unwrap_value(\n\u001b[0;32m    323\u001b[0m                 response.get('value', None))\n",
      "\u001b[1;32m~\\Anaconda3\\lib\\site-packages\\selenium\\webdriver\\remote\\errorhandler.py\u001b[0m in \u001b[0;36mcheck_response\u001b[1;34m(self, response)\u001b[0m\n\u001b[0;32m    240\u001b[0m                 \u001b[0malert_text\u001b[0m \u001b[1;33m=\u001b[0m \u001b[0mvalue\u001b[0m\u001b[1;33m[\u001b[0m\u001b[1;34m'alert'\u001b[0m\u001b[1;33m]\u001b[0m\u001b[1;33m.\u001b[0m\u001b[0mget\u001b[0m\u001b[1;33m(\u001b[0m\u001b[1;34m'text'\u001b[0m\u001b[1;33m)\u001b[0m\u001b[1;33m\u001b[0m\u001b[1;33m\u001b[0m\u001b[0m\n\u001b[0;32m    241\u001b[0m             \u001b[1;32mraise\u001b[0m \u001b[0mexception_class\u001b[0m\u001b[1;33m(\u001b[0m\u001b[0mmessage\u001b[0m\u001b[1;33m,\u001b[0m \u001b[0mscreen\u001b[0m\u001b[1;33m,\u001b[0m \u001b[0mstacktrace\u001b[0m\u001b[1;33m,\u001b[0m \u001b[0malert_text\u001b[0m\u001b[1;33m)\u001b[0m\u001b[1;33m\u001b[0m\u001b[1;33m\u001b[0m\u001b[0m\n\u001b[1;32m--> 242\u001b[1;33m         \u001b[1;32mraise\u001b[0m \u001b[0mexception_class\u001b[0m\u001b[1;33m(\u001b[0m\u001b[0mmessage\u001b[0m\u001b[1;33m,\u001b[0m \u001b[0mscreen\u001b[0m\u001b[1;33m,\u001b[0m \u001b[0mstacktrace\u001b[0m\u001b[1;33m)\u001b[0m\u001b[1;33m\u001b[0m\u001b[1;33m\u001b[0m\u001b[0m\n\u001b[0m\u001b[0;32m    243\u001b[0m \u001b[1;33m\u001b[0m\u001b[0m\n\u001b[0;32m    244\u001b[0m     \u001b[1;32mdef\u001b[0m \u001b[0m_value_or_default\u001b[0m\u001b[1;33m(\u001b[0m\u001b[0mself\u001b[0m\u001b[1;33m,\u001b[0m \u001b[0mobj\u001b[0m\u001b[1;33m,\u001b[0m \u001b[0mkey\u001b[0m\u001b[1;33m,\u001b[0m \u001b[0mdefault\u001b[0m\u001b[1;33m)\u001b[0m\u001b[1;33m:\u001b[0m\u001b[1;33m\u001b[0m\u001b[1;33m\u001b[0m\u001b[0m\n",
      "\u001b[1;31mNoSuchElementException\u001b[0m: Message: no such element: Unable to locate element: {\"method\":\"css selector\",\"selector\":\"[id=\"SMSMenu\"]\"}\n  (Session info: chrome=83.0.4103.61)\n"
     ]
    }
   ],
   "source": [
    "# Select kalahandia\n",
    "getID(driver, \"SMSMenu\").send_keys(Keys.RETURN)\n",
    "getID(driver, \"SingleMainContent_UserInfoBoxControl2_ddlSubCentre\").send_keys(\"Kalah\")\n",
    "getID(driver, \"SingleMainContent_UserInfoBoxControl2_btnSave\").send_keys(Keys.RETURN)\n",
    "getID(driver, \"SMSMenu\").send_keys(Keys.RETURN)\n",
    "\n",
    "# Enter ID and Search\n",
    "getID(driver, \"txtRCH_MCTS_ID\").clear()\n",
    "getID(driver, \"txtRCH_MCTS_ID\").send_keys(input(\"ID to search : \"))\n",
    "getID(driver, \"btnSearch\").click()"
   ]
  },
  {
   "cell_type": "code",
   "execution_count": null,
   "metadata": {},
   "outputs": [],
   "source": []
  },
  {
   "cell_type": "code",
   "execution_count": 21,
   "metadata": {},
   "outputs": [],
   "source": [
    "# Set Asha\n",
    "prefix = \"SingleMainContent_DoubleMainContent_\"\n",
    "asha = prefix + \"ddlAsha\"\n",
    "immun = prefix + \"ddlImmunization\"\n",
    "penta = prefix + \"ChkBoxImu4\"\n",
    "rota = prefix + \"ChkBoxImu5\"\n",
    "ipv = prefix + \"ChkBoxImu6\"\n",
    "date = prefix + \"txtImmu_Date\"\n",
    "submit = prefix + \"btnSave\""
   ]
  },
  {
   "cell_type": "code",
   "execution_count": 59,
   "metadata": {},
   "outputs": [
    {
     "name": "stdout",
     "output_type": "stream",
     "text": [
      "A, B, P, Na, Kunt, Kus - KUN\n"
     ]
    }
   ],
   "source": [
    "## 18-12-2019 15-01-2020 15-04-2020\n",
    "\n",
    "# Set ASHA first time\n",
    "getID(driver, asha).send_keys(input(\"A, B, P, Na, Kunt, Kus - \"))\n",
    "\n",
    "# OPV-1\n",
    "getID(driver, immun).click()\n",
    "time.sleep(1)\n",
    "getID(driver, immun).send_keys(\"OPV-1\")\n",
    "time.sleep(1)\n",
    "getID(driver, immun).click()\n",
    "time.sleep(3)\n",
    "\n",
    "getID(driver, penta).click()\n",
    "getID(driver, rota).click()\n",
    "getID(driver, ipv).click()\n",
    "getID(driver, date).clear()\n",
    "getID(driver, date).send_keys(\"\")\n",
    "# getID(driver, date).send_keys(input(\"date OPV-1 : \"))\n",
    "# getID(driver, submit).click()\n"
   ]
  },
  {
   "cell_type": "code",
   "execution_count": 62,
   "metadata": {},
   "outputs": [],
   "source": [
    "## OPV-2\n",
    "getID(driver, immun).click()\n",
    "time.sleep(1)\n",
    "getID(driver, immun).send_keys(\"OPV-2\")\n",
    "time.sleep(1)\n",
    "getID(driver, immun).click()\n",
    "time.sleep(3)\n",
    "\n",
    "getID(driver, penta).click()\n",
    "getID(driver, rota).click()\n",
    "getID(driver, date).clear()\n",
    "getID(driver, date).send_keys(\"\")\n",
    "# getID(driver, date).send_keys(input(\"date OPV-2 : \"))\n",
    "# getID(driver, submit).click()\n",
    "\n"
   ]
  },
  {
   "cell_type": "code",
   "execution_count": 63,
   "metadata": {},
   "outputs": [],
   "source": [
    "##### OPV-3\n",
    "getID(driver, immun).click()\n",
    "time.sleep(1)\n",
    "getID(driver, immun).send_keys(\"OPV-3\")\n",
    "time.sleep(1)\n",
    "getID(driver, immun).click()\n",
    "time.sleep(2)\n",
    "getID(driver, penta).click()\n",
    "getID(driver, rota).click()\n",
    "getID(driver, ipv).click()\n",
    "getID(driver, date).clear()\n",
    "getID(driver, date).send_keys(\"\")\n",
    "# getID(driver, date).send_keys(input(\"date OPV-3 : \"))\n",
    "# getID(driver, submit).click()"
   ]
  },
  {
   "cell_type": "code",
   "execution_count": null,
   "metadata": {},
   "outputs": [],
   "source": []
  }
 ],
 "metadata": {
  "kernelspec": {
   "display_name": "Python 3",
   "language": "python",
   "name": "python3"
  },
  "language_info": {
   "codemirror_mode": {
    "name": "ipython",
    "version": 3
   },
   "file_extension": ".py",
   "mimetype": "text/x-python",
   "name": "python",
   "nbconvert_exporter": "python",
   "pygments_lexer": "ipython3",
   "version": "3.7.4"
  },
  "toc": {
   "base_numbering": 1,
   "nav_menu": {},
   "number_sections": true,
   "sideBar": true,
   "skip_h1_title": false,
   "title_cell": "Table of Contents",
   "title_sidebar": "Contents",
   "toc_cell": false,
   "toc_position": {},
   "toc_section_display": true,
   "toc_window_display": false
  }
 },
 "nbformat": 4,
 "nbformat_minor": 2
}
